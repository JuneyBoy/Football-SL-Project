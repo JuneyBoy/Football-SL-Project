{
 "cells": [
  {
   "cell_type": "markdown",
   "metadata": {},
   "source": [
    "# Using Supervised Learning to Predict Football Wins\n",
    "## By Arjun Ganesan and Daniel Ngo"
   ]
  },
  {
   "cell_type": "markdown",
   "metadata": {},
   "source": [
    "### File Parsing"
   ]
  },
  {
   "cell_type": "code",
   "execution_count": 1,
   "metadata": {},
   "outputs": [
    {
     "name": "stdout",
     "output_type": "stream",
     "text": [
      "Training Examples (2021 Data): [[0.259, 0.35600000000000004, 0.153, 0.023, 0.654, 36.45, 0.023, 0.7020000000000001, 7.9, 4.2, 11.0], [0.16699999999999998, 0.447, 0.11199999999999999, 0.021, 0.6779999999999999, 39.52, 0.021, 0.6579999999999999, 6.5, 3.7, 7.0], [0.23, 0.342, 0.079, 0.013999999999999999, 0.639, 47.42, 0.013999999999999999, 0.648, 6.3, 4.8, 8.0], [0.308, 0.28, 0.145, 0.036000000000000004, 0.56, 27.71, 0.036000000000000004, 0.634, 6.8, 4.8, 11.0], [0.261, 0.376, 0.081, 0.017, 0.654, 32.66, 0.017, 0.581, 4.9, 4.0, 5.0], [0.231, 0.40399999999999997, 0.084, 0.017, 0.6579999999999999, 32.57, 0.017, 0.613, 5.6, 4.2, 6.0], [0.245, 0.33899999999999997, 0.111, 0.021, 0.6709999999999999, 42.22, 0.021, 0.6920000000000001, 8.8, 4.0, 10.0], [0.243, 0.374, 0.099, 0.023, 0.637, 34.39, 0.023, 0.615, 6.6, 5.1, 8.0], [0.276, 0.325, 0.16699999999999998, 0.042, 0.595, 40.49, 0.042, 0.6859999999999999, 8.1, 4.5, 12.0], [0.259, 0.327, 0.107, 0.023, 0.607, 36.52, 0.023, 0.654, 7.1, 4.5, 7.0], [0.205, 0.478, 0.106, 0.02, 0.66, 41.6, 0.02, 0.6679999999999999, 6.3, 4.4, 3.0], [0.244, 0.366, 0.14, 0.03, 0.629, 37.24, 0.03, 0.6779999999999999, 8.4, 4.3, 13.0], [0.207, 0.429, 0.122, 0.031, 0.665, 41.17, 0.031, 0.648, 6.2, 3.4, 4.0], [0.18100000000000002, 0.354, 0.171, 0.032, 0.653, 39.8, 0.032, 0.622, 7.2, 5.1, 9.0], [0.242, 0.45299999999999996, 0.052000000000000005, 0.013000000000000001, 0.6940000000000001, 38.75, 0.013000000000000001, 0.598, 5.2, 4.5, 3.0], [0.264, 0.373, 0.16, 0.025, 0.657, 42.73, 0.025, 0.664, 7.5, 4.5, 12.0], [0.244, 0.41600000000000004, 0.073, 0.01, 0.66, 37.89, 0.01, 0.6829999999999999, 7.4, 3.9, 10.0], [0.25, 0.45299999999999996, 0.11199999999999999, 0.02, 0.639, 37.61, 0.02, 0.657, 7.6, 4.3, 9.0], [0.228, 0.359, 0.133, 0.03, 0.6659999999999999, 41.09, 0.03, 0.669, 8.1, 4.0, 12.0], [0.285, 0.363, 0.13, 0.023, 0.613, 38.71, 0.023, 0.657, 6.1, 3.5, 9.0], [0.262, 0.402, 0.11900000000000001, 0.026000000000000002, 0.6409999999999999, 43.0, 0.026000000000000002, 0.659, 8.0, 4.3, 8.0], [0.256, 0.294, 0.16899999999999998, 0.043, 0.593, 31.81, 0.043, 0.68, 7.5, 4.4, 10.0], [0.247, 0.32299999999999995, 0.128, 0.03, 0.623, 38.21, 0.03, 0.581, 6.8, 3.9, 9.0], [0.201, 0.413, 0.12, 0.025, 0.6579999999999999, 38.39, 0.025, 0.5920000000000001, 4.8, 4.0, 4.0], [0.214, 0.489, 0.07400000000000001, 0.012, 0.6829999999999999, 44.09, 0.012, 0.5920000000000001, 5.7, 4.4, 4.0], [0.24, 0.37200000000000005, 0.08900000000000001, 0.02, 0.6940000000000001, 37.56, 0.02, 0.621, 7.2, 4.9, 9.0], [0.261, 0.387, 0.10800000000000001, 0.023, 0.631, 36.56, 0.023, 0.64, 6.0, 3.9, 9.0], [0.24100000000000002, 0.344, 0.09300000000000001, 0.017, 0.6829999999999999, 35.1, 0.017, 0.667, 8.4, 4.3, 10.0], [0.221, 0.354, 0.085, 0.017, 0.6729999999999999, 45.13, 0.017, 0.655, 8.3, 5.0, 7.0], [0.28600000000000003, 0.335, 0.147, 0.025, 0.654, 40.62, 0.025, 0.6729999999999999, 7.8, 4.3, 13.0], [0.24, 0.371, 0.10800000000000001, 0.025, 0.629, 41.69, 0.025, 0.6709999999999999, 6.6, 4.4, 12.0], [0.242, 0.424, 0.107, 0.018000000000000002, 0.67, 43.33, 0.018000000000000002, 0.647, 6.3, 4.3, 7.0]]\n",
      "\n",
      "Validation Examples (2020 Data): [[0.259, 0.37200000000000005, 0.105, 0.019, 0.64, 36.23, 0.019, 0.6729999999999999, 7.1, 4.7, 8.0], [0.23600000000000002, 0.42, 0.121, 0.019, 0.68, 46.97, 0.019, 0.65, 7.4, 3.7, 4.0], [0.268, 0.3, 0.124, 0.017, 0.638, 35.36, 0.017, 0.633, 7.3, 5.5, 11.0], [0.222, 0.39399999999999996, 0.153, 0.026000000000000002, 0.644, 37.26, 0.026000000000000002, 0.688, 8.5, 4.2, 13.0], [0.22399999999999998, 0.46, 0.124, 0.012, 0.68, 38.25, 0.012, 0.6779999999999999, 6.8, 4.2, 5.0], [0.22399999999999998, 0.38, 0.08900000000000001, 0.018000000000000002, 0.64, 37.05, 0.018000000000000002, 0.655, 6.1, 4.2, 8.0], [0.19, 0.433, 0.094, 0.02, 0.628, 38.59, 0.02, 0.64, 6.3, 4.1, 4.0], [0.21899999999999997, 0.43, 0.127, 0.019, 0.634, 39.62, 0.019, 0.629, 7.7, 4.8, 11.0], [0.228, 0.431, 0.122, 0.019, 0.639, 36.42, 0.019, 0.6459999999999999, 6.9, 4.2, 6.0], [0.262, 0.446, 0.08199999999999999, 0.018000000000000002, 0.66, 38.07, 0.018000000000000002, 0.57, 5.5, 4.3, 5.0], [0.175, 0.479, 0.071, 0.013000000000000001, 0.688, 45.58, 0.013000000000000001, 0.643, 7.5, 4.1, 5.0], [0.21100000000000002, 0.39899999999999997, 0.114, 0.021, 0.6459999999999999, 35.39, 0.021, 0.7070000000000001, 9.6, 4.8, 13.0], [0.215, 0.47, 0.054000000000000006, 0.006, 0.6970000000000001, 41.04, 0.006, 0.701, 9.5, 4.3, 4.0], [0.233, 0.35100000000000003, 0.14300000000000002, 0.027000000000000003, 0.657, 38.66, 0.027000000000000003, 0.672, 7.6, 4.3, 11.0], [0.201, 0.478, 0.092, 0.023, 0.6940000000000001, 42.31, 0.023, 0.628, 6.1, 4.5, 1.0], [0.24600000000000002, 0.361, 0.13, 0.028999999999999998, 0.627, 37.79, 0.028999999999999998, 0.667, 8.7, 4.5, 14.0], [0.235, 0.503, 0.084, 0.017, 0.638, 42.12, 0.017, 0.67, 8.2, 4.2, 8.0], [0.23800000000000002, 0.435, 0.1, 0.022000000000000002, 0.626, 35.78, 0.022000000000000002, 0.659, 7.5, 3.8, 7.0], [0.23399999999999999, 0.27899999999999997, 0.12, 0.026000000000000002, 0.633, 30.51, 0.026000000000000002, 0.664, 6.7, 4.3, 10.0], [0.248, 0.307, 0.156, 0.033, 0.629, 40.24, 0.033, 0.662, 6.9, 3.9, 10.0], [0.196, 0.5, 0.107, 0.027999999999999997, 0.662, 41.41, 0.027999999999999997, 0.6759999999999999, 8.5, 4.9, 7.0], [0.264, 0.389, 0.14, 0.036000000000000004, 0.674, 35.57, 0.036000000000000004, 0.643, 6.2, 4.7, 7.0], [0.263, 0.34700000000000003, 0.131, 0.032, 0.598, 34.72, 0.032, 0.7090000000000001, 7.9, 4.6, 12.0], [0.255, 0.415, 0.122, 0.019, 0.6759999999999999, 38.07, 0.019, 0.621, 6.0, 4.4, 6.0], [0.217, 0.446, 0.107, 0.017, 0.691, 44.09, 0.017, 0.585, 5.6, 4.1, 2.0], [0.27899999999999997, 0.37799999999999995, 0.092, 0.015, 0.687, 37.98, 0.015, 0.5589999999999999, 5.5, 5.0, 4.0], [0.35100000000000003, 0.293, 0.138, 0.034, 0.5670000000000001, 31.1, 0.034, 0.652, 6.6, 3.6, 12.0], [0.226, 0.38299999999999995, 0.10400000000000001, 0.022000000000000002, 0.635, 33.27, 0.022000000000000002, 0.6509999999999999, 7.1, 4.3, 6.0], [0.24100000000000002, 0.4, 0.12, 0.021, 0.6679999999999999, 45.6, 0.021, 0.6890000000000001, 7.9, 4.8, 12.0], [0.275, 0.337, 0.14, 0.024, 0.69, 39.45, 0.024, 0.655, 8.1, 4.1, 11.0], [0.17600000000000002, 0.452, 0.133, 0.024, 0.6709999999999999, 44.39, 0.024, 0.652, 8.6, 5.2, 11.0], [0.259, 0.314, 0.122, 0.03, 0.624, 30.68, 0.03, 0.647, 5.7, 4.0, 7.0]]\n"
     ]
    }
   ],
   "source": [
    "import csv, operator\n",
    "\n",
    "\n",
    "def parse_csv(file_name):\n",
    "\n",
    "    all_rows = []\n",
    "\n",
    "    with open(file_name, \"r\") as file:\n",
    "        reader = csv.reader(file)\n",
    "        for row in reader:\n",
    "            all_rows.append(row[3:])\n",
    "\n",
    "    all_rows.pop(0)\n",
    "\n",
    "    return all_rows\n",
    "\n",
    "\n",
    "def parse_defensive_advanced(stats, file_name):\n",
    "    all_rows = parse_csv(file_name)\n",
    "\n",
    "    for i, row in enumerate(all_rows):\n",
    "        # Quarterback (QB) pressures per drop back\n",
    "        # print(str(i))\n",
    "        stats[i][0] = float(row[14].strip(\"%\")) / 100\n",
    "\n",
    "\n",
    "def parse_defensive_drives(stats, file_name):\n",
    "    all_rows = parse_csv(file_name)\n",
    "\n",
    "    for i, row in enumerate(all_rows):\n",
    "        # percentage of offensive drives ending in score\n",
    "        stats[i][1] = float(row[2].strip(\"%\")) / 100\n",
    "        # percentage of offensive drives ending in turnover\n",
    "        stats[i][2] = float(row[3].strip(\"%\")) / 100\n",
    "\n",
    "\n",
    "def parse_defensive_passing(stats, file_name):\n",
    "    all_rows = parse_csv(file_name)\n",
    "\n",
    "    for i, row in enumerate(all_rows):\n",
    "        # percentage of attempted passes by offensive team intercepted\n",
    "        stats[i][3] = float(row[8].strip(\"%\")) / 100\n",
    "\n",
    "\n",
    "def parse_offensive_drives(stats, file_name):\n",
    "    all_rows = parse_csv(file_name)\n",
    "\n",
    "    for i, row in enumerate(all_rows):\n",
    "        # percentage of offensive drives ending in score\n",
    "        stats[i][4] = float(row[2].strip(\"%\")) / 100\n",
    "        # percentage of offensive drives ending in turnover\n",
    "        stats[i][5] = float(row[3].strip(\"%\")) / 100\n",
    "        # avg number of points scored per drive\n",
    "        stats[i][6] = float(row[8]) / 100\n",
    "\n",
    "\n",
    "def parse_offensive_passing(stats, file_name):\n",
    "    all_rows = parse_csv(file_name)\n",
    "\n",
    "    for i, row in enumerate(all_rows):\n",
    "        # pass completion\n",
    "        stats[i][7] = float(row[2].strip(\"%\")) / 100\n",
    "        # adjusted yards gained per pass attempt\n",
    "        stats[i][8] = float(row[10])\n",
    "\n",
    "\n",
    "def parse_offensive_rushing(stats, file_name):\n",
    "    all_rows = parse_csv(file_name)\n",
    "\n",
    "    for i, row in enumerate(all_rows):\n",
    "        # yards gained per attempt\n",
    "        stats[i][9] = float(row[4])\n",
    "\n",
    "\n",
    "def get_wins(stats, file_name):\n",
    "    wins = csv.reader(open(file_name), delimiter=\",\")\n",
    "    # sorts each row by the Team Name\n",
    "    wins = sorted(wins, key=operator.itemgetter(0))\n",
    "    # gets rid of label row (which ends up being the 2nd to last row after sorting)\n",
    "    wins.pop(-2)\n",
    "\n",
    "    for i, row in enumerate(wins):\n",
    "        stats[i][10] = float(row[1])\n",
    "\n",
    "\n",
    "training_examples = [[0] * 11 for i in range(32)]\n",
    "parse_defensive_advanced(training_examples, \"Raw Data/2021_Data/DefensiveAdvanced.csv\")\n",
    "parse_defensive_drives(training_examples, \"Raw Data/2021_Data/DefensiveDrives.csv\")\n",
    "parse_defensive_passing(training_examples, \"Raw Data/2021_Data/DefensivePassing.csv\")\n",
    "parse_offensive_drives(training_examples, \"Raw Data/2021_Data/DefensivePassing.csv\")\n",
    "parse_offensive_passing(training_examples, \"Raw Data/2021_Data/OffensivePassing.csv\")\n",
    "parse_offensive_rushing(training_examples, \"Raw Data/2021_Data/OffensiveRushing.csv\")\n",
    "get_wins(training_examples, \"Raw Data/2021_Data/2021_Standings.csv\")\n",
    "\n",
    "validation_examples = [[0] * 11 for i in range(32)]\n",
    "parse_defensive_advanced(\n",
    "    validation_examples, \"Raw Data/2020_Data/DefensiveAdvanced.csv\"\n",
    ")\n",
    "parse_defensive_drives(validation_examples, \"Raw Data/2020_Data/DefensiveDrives.csv\")\n",
    "parse_defensive_passing(validation_examples, \"Raw Data/2020_Data/DefensivePassing.csv\")\n",
    "parse_offensive_drives(validation_examples, \"Raw Data/2020_Data/DefensivePassing.csv\")\n",
    "parse_offensive_passing(validation_examples, \"Raw Data/2020_Data/OffensivePassing.csv\")\n",
    "parse_offensive_rushing(validation_examples, \"Raw Data/2020_Data/OffensiveRushing.csv\")\n",
    "get_wins(validation_examples, \"Raw Data/2020_Data/2020_Standings.csv\")\n",
    "\n",
    "print(\"Training Examples (2021 Data): \" + str(training_examples))\n",
    "print()\n",
    "print(\"Validation Examples (2020 Data): \" + str(validation_examples))\n"
   ]
  },
  {
   "cell_type": "markdown",
   "metadata": {},
   "source": [
    "### K Nearest Neighbors"
   ]
  },
  {
   "cell_type": "code",
   "execution_count": 2,
   "metadata": {},
   "outputs": [
    {
     "data": {
      "image/png": "[encoded data removed]",
      "text/plain": [
       "<Figure size 432x288 with 1 Axes>"
      ]
     },
     "metadata": {
      "needs_background": "light"
     },
     "output_type": "display_data"
    }
   ],
   "source": [
    "import numpy as np\n",
    "import matplotlib.pyplot as plt\n",
    "\n",
    "\n",
    "def euclidean_distance(p1, p2):\n",
    "    squares = 0\n",
    "\n",
    "    # sums up the distance between each corresponding dimension of the coordinates\n",
    "    for i in range(len(p1)):\n",
    "        squares += np.square(p1[i] - p2[i])\n",
    "\n",
    "    distance = np.sqrt(squares)\n",
    "    return distance\n",
    "\n",
    "\n",
    "def k_nearest_neighbors_real_value(k, point_to_classify, training_examples, weighted):\n",
    "\n",
    "    # keys -> example, value -> distance\n",
    "    distances = {}\n",
    "\n",
    "    # get distances between each of the training examples and point_to_classify\n",
    "    for example in training_examples:\n",
    "        distances[tuple(example)] = euclidean_distance(point_to_classify, example)\n",
    "\n",
    "    # sorts dictionary by distances from least to greatest\n",
    "    sorted_distances = dict(sorted(distances.items(), key=lambda item: item[1]))\n",
    "    # print(sorted_distances)\n",
    "    # keeps track of the sum of the outputs for the k-nearest neighbors\n",
    "    sum = 0\n",
    "    # keeps track of the weights of the k-nearest neighbors\n",
    "    ws = []\n",
    "\n",
    "    # for the k-nearest neighbors...\n",
    "    for i in range(k):\n",
    "        if weighted:\n",
    "            wi = 1 / np.square(list(sorted_distances.values())[i])\n",
    "            ws.append(wi)\n",
    "            sum += wi * list(sorted_distances)[i][10]\n",
    "        else:\n",
    "            sum += list(sorted_distances)[i][10]\n",
    "\n",
    "    # returns averages\n",
    "    if weighted:\n",
    "        return sum / np.sum(ws)\n",
    "    else:\n",
    "        return sum / k\n",
    "\n",
    "\n",
    "# k_nearest_neighbors_real_value(\n",
    "#     3, (validation_examples[0])[:-1], training_examples, True\n",
    "# )\n",
    "\n",
    "predicted_wins = [\n",
    "    k_nearest_neighbors_real_value(3, team_data[:-1], training_examples, True)\n",
    "    for team_data in validation_examples\n",
    "]\n",
    "\n",
    "ex_nums = [i for i in range(len(predicted_wins))]\n",
    "\n",
    "fig = plt.figure()\n",
    "\n",
    "plt.scatter(ex_nums, predicted_wins, label=\"Predicted Wins\")\n",
    "plt.scatter(\n",
    "    ex_nums,\n",
    "    [validation_example[-1] for validation_example in validation_examples],\n",
    "    label=\"Actual Wins\",\n",
    ")\n",
    "fig.suptitle(\"KNN (K=3)\")\n",
    "plt.xlabel(\"Team #\")\n",
    "plt.ylabel(\"Wins\")\n",
    "fig.legend()\n",
    "plt.show()\n"
   ]
  },
  {
   "cell_type": "markdown",
   "metadata": {},
   "source": [
    "## Gradient Descent Linear Regression"
   ]
  },
  {
   "cell_type": "code",
   "execution_count": 28,
   "metadata": {},
   "outputs": [
    {
     "name": "stderr",
     "output_type": "stream",
     "text": [
      "/var/folders/6s/f26p_1v120n1m61yy22w_3f80000gn/T/ipykernel_32683/1342356087.py:23: RuntimeWarning: invalid value encountered in double_scalars\n",
      "  ws[i] = ws[i] + deltas[i]\n"
     ]
    },
    {
     "name": "stdout",
     "output_type": "stream",
     "text": [
      "[nan, nan, nan, nan, nan, nan, nan, nan, nan, nan, nan]\n"
     ]
    },
    {
     "data": {
      "image/png": "[encoded data removed]",
      "text/plain": [
       "<Figure size 432x288 with 1 Axes>"
      ]
     },
     "metadata": {
      "needs_background": "light"
     },
     "output_type": "display_data"
    }
   ],
   "source": [
    "import numpy as np\n",
    "import matplotlib.pyplot as plt\n",
    "\n",
    "\n",
    "def gradient_descent(num_of_attributes, x_examples, y_examples, LEARNING_RATE=0.01):\n",
    "    ws = [0] * (num_of_attributes + 1)\n",
    "\n",
    "    for i in range(1000):\n",
    "        deltas = [0] * len(ws)\n",
    "\n",
    "        for x_example, y_example in zip(x_examples, y_examples):\n",
    "            output = np.dot(ws[1:], x_example) + ws[0]\n",
    "\n",
    "            for i, delta in enumerate(deltas):\n",
    "                if i == 0:\n",
    "                    deltas[i] = deltas[i] + LEARNING_RATE * (y_example - output) * 1\n",
    "                else:\n",
    "                    deltas[i] = (\n",
    "                        deltas[i]\n",
    "                        + LEARNING_RATE * (y_example - output) * x_example[i - 1]\n",
    "                    )\n",
    "        for i, w in enumerate(ws):\n",
    "            ws[i] = ws[i] + deltas[i]\n",
    "\n",
    "    print(ws)\n",
    "    return ws\n",
    "\n",
    "\n",
    "def get_predictions_from_weights(ws, x_examples):\n",
    "    predictions = [0] * len(x_examples)\n",
    "\n",
    "    for i, prediction in enumerate(predictions):\n",
    "        predictions[i] = np.dot(ws[1:], x_examples[i]) + ws[0]\n",
    "\n",
    "    return predictions\n",
    "\n",
    "\n",
    "weights = gradient_descent(\n",
    "    10,\n",
    "    [training_example[:-1] for training_example in training_examples],\n",
    "    [training_example[-1] for training_example in training_examples],\n",
    ")\n",
    "\n",
    "predicted_wins = get_predictions_from_weights(\n",
    "    weights, [validation_example[:-1] for validation_example in validation_examples]\n",
    ")\n",
    "\n",
    "ex_nums = [i for i in range(len(predicted_wins))]\n",
    "\n",
    "fig = plt.figure()\n",
    "\n",
    "plt.scatter(ex_nums, predicted_wins, label=\"Predicted Wins\")\n",
    "plt.scatter(\n",
    "    ex_nums,\n",
    "    [validation_example[-1] for validation_example in validation_examples],\n",
    "    label=\"Actual Wins\",\n",
    ")\n",
    "\n",
    "fig.suptitle(\"Gradient Descent\")\n",
    "plt.xlabel(\"Team #\")\n",
    "plt.ylabel(\"Wins\")\n",
    "fig.legend()\n",
    "plt.show()\n",
    "\n",
    "# Test for functions (predictions exactly match target values)\n",
    "# weights = gradient_descent(2, [[4,3], [5,7]], [5,9])\n",
    "# predictions = get_predictions_from_weights(weights, [[4,3], [5,7]])\n",
    "\n",
    "# print(predictions)\n"
   ]
  }
 ],
 "metadata": {
  "interpreter": {
   "hash": "aee8b7b246df8f9039afb4144a1f6fd8d2ca17a180786b69acc140d282b71a49"
  },
  "kernelspec": {
   "display_name": "Python 3.9.12 64-bit",
   "language": "python",
   "name": "python3"
  },
  "language_info": {
   "codemirror_mode": {
    "name": "ipython",
    "version": 3
   },
   "file_extension": ".py",
   "mimetype": "text/x-python",
   "name": "python",
   "nbconvert_exporter": "python",
   "pygments_lexer": "ipython3",
   "version": "3.9.12"
  },
  "orig_nbformat": 4
 },
 "nbformat": 4,
 "nbformat_minor": 2
}
